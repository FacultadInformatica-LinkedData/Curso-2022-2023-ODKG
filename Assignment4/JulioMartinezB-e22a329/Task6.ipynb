{
 "cells": [
  {
   "cell_type": "code",
   "execution_count": 1,
   "id": "e0714cd7",
   "metadata": {},
   "outputs": [
    {
     "name": "stdout",
     "output_type": "stream",
     "text": [
      "Requirement already satisfied: rdflib in /home/julio/Escritorio/quintp/VIA/miniconda3/envs/via/lib/python3.8/site-packages (6.2.0)\n",
      "Requirement already satisfied: setuptools in /home/julio/Escritorio/quintp/VIA/miniconda3/envs/via/lib/python3.8/site-packages (from rdflib) (58.0.4)\n",
      "Requirement already satisfied: pyparsing in /home/julio/Escritorio/quintp/VIA/miniconda3/envs/via/lib/python3.8/site-packages (from rdflib) (3.0.7)\n",
      "Requirement already satisfied: isodate in /home/julio/Escritorio/quintp/VIA/miniconda3/envs/via/lib/python3.8/site-packages (from rdflib) (0.6.1)\n",
      "Requirement already satisfied: six in /home/julio/Escritorio/quintp/VIA/miniconda3/envs/via/lib/python3.8/site-packages (from isodate->rdflib) (1.16.0)\n"
     ]
    }
   ],
   "source": [
    "!pip install rdflib \n",
    "github_storage = \"https://raw.githubusercontent.com/FacultadInformatica-LinkedData/Curso2020-2021/master/Assignment4\""
   ]
  },
  {
   "cell_type": "code",
   "execution_count": 2,
   "id": "b3cf7ae5",
   "metadata": {},
   "outputs": [
    {
     "data": {
      "text/plain": [
       "<Graph identifier=Nd88779620c8e4287aca704a70bb96075 (<class 'rdflib.graph.Graph'>)>"
      ]
     },
     "execution_count": 2,
     "metadata": {},
     "output_type": "execute_result"
    }
   ],
   "source": [
    "from rdflib import Graph, Namespace, Literal\n",
    "from rdflib.namespace import RDF, RDFS\n",
    "g = Graph()\n",
    "g.namespace_manager.bind('ns', Namespace(\"http://somewhere#\"), override=False)\n",
    "g.namespace_manager.bind('vcard', Namespace(\"http://www.w3.org/2001/vcard-rdf/3.0#\"), override=False)\n",
    "g.parse(github_storage+\"/resources/example5.rdf\", format=\"xml\")"
   ]
  },
  {
   "cell_type": "code",
   "execution_count": 3,
   "id": "fa27a77b",
   "metadata": {},
   "outputs": [
    {
     "name": "stdout",
     "output_type": "stream",
     "text": [
      "http://www.w3.org/2001/vcard-rdf/3.0/Given http://www.w3.org/1999/02/22-rdf-syntax-ns#type http://www.w3.org/2000/01/rdf-schema#Datatype\n",
      "http://www.w3.org/2001/vcard-rdf/3.0/Given http://www.w3.org/2000/01/rdf-schema#range http://www.w3.org/2001/XMLSchema#string\n",
      "http://somewhere#SaraJones http://www.w3.org/2001/vcard-rdf/3.0/FN Sara Jones\n",
      "http://somewhere#SaraJones http://www.w3.org/1999/02/22-rdf-syntax-ns#type http://somewhere#Person\n",
      "http://somewhere#Person http://www.w3.org/1999/02/22-rdf-syntax-ns#type http://www.w3.org/2000/01/rdf-schema#Class\n",
      "http://www.w3.org/2001/vcard-rdf/3.0/Family http://www.w3.org/1999/02/22-rdf-syntax-ns#type http://www.w3.org/2000/01/rdf-schema#Property\n",
      "http://somewhere#JohnSmith http://www.w3.org/1999/02/22-rdf-syntax-ns#type http://somewhere#Person\n",
      "http://somewhere#JohnSmith http://www.w3.org/2001/vcard-rdf/3.0/FN John Smith\n",
      "http://somewhere#SaraJones http://www.w3.org/2001/vcard-rdf/3.0/Given Sara\n",
      "http://somewhere#JohnSmith http://www.w3.org/2001/vcard-rdf/3.0/Family Smith\n",
      "http://somewhere#SaraJones http://www.w3.org/2001/vcard-rdf/3.0/Family Jones\n",
      "http://somewhere#Researcher http://www.w3.org/1999/02/22-rdf-syntax-ns#type http://www.w3.org/2000/01/rdf-schema#Class\n",
      "http://www.w3.org/2001/vcard-rdf/3.0/FN http://www.w3.org/2000/01/rdf-schema#range http://www.w3.org/2001/XMLSchema#string\n",
      "http://www.w3.org/2001/vcard-rdf/3.0/Family http://www.w3.org/2000/01/rdf-schema#range http://www.w3.org/2001/XMLSchema#string\n",
      "http://somewhere#JohnSmith http://www.w3.org/2001/vcard-rdf/3.0/Given John\n",
      "http://www.w3.org/2001/vcard-rdf/3.0/FN http://www.w3.org/1999/02/22-rdf-syntax-ns#type http://www.w3.org/2000/01/rdf-schema#Datatype\n"
     ]
    }
   ],
   "source": [
    "ns = Namespace(\"http://somewhere#\")\n",
    "g.add((ns.Researcher, RDF.type, RDFS.Class))\n",
    "for s, p, o in g:\n",
    "    print(s,p,o)"
   ]
  },
  {
   "cell_type": "markdown",
   "id": "1df3a442",
   "metadata": {},
   "source": [
    "**TASK 6.1: Create a new class named \"University\"**"
   ]
  },
  {
   "cell_type": "code",
   "execution_count": 4,
   "id": "a0ea7c17",
   "metadata": {},
   "outputs": [
    {
     "name": "stdout",
     "output_type": "stream",
     "text": [
      "http://somewhere#University http://www.w3.org/1999/02/22-rdf-syntax-ns#type http://www.w3.org/2000/01/rdf-schema#Class\n"
     ]
    }
   ],
   "source": [
    "g.add((ns.University, RDF.type, RDFS.Class))\n",
    "for subj, pred, obj in g.triples((ns.University, None , None)):\n",
    "    print(subj, pred, obj) "
   ]
  },
  {
   "cell_type": "markdown",
   "id": "76dcfd07",
   "metadata": {},
   "source": [
    "**TASK 6.2: Add \"Researcher\" as a subclass of \"Person\"**"
   ]
  },
  {
   "cell_type": "code",
   "execution_count": 5,
   "id": "6125c025",
   "metadata": {},
   "outputs": [
    {
     "name": "stdout",
     "output_type": "stream",
     "text": [
      "http://somewhere#Researcher http://www.w3.org/1999/02/22-rdf-syntax-ns#type http://www.w3.org/2000/01/rdf-schema#Class\n",
      "http://somewhere#Researcher http://www.w3.org/2000/01/rdf-schema#subClassOf http://somewhere#Person\n"
     ]
    }
   ],
   "source": [
    "g.add((ns.Researcher, RDFS.subClassOf, ns.Person))\n",
    "for subj, pred, obj in g.triples((ns.Researcher, None , None)):\n",
    "    print(subj, pred, obj) "
   ]
  },
  {
   "cell_type": "markdown",
   "id": "972d422a",
   "metadata": {},
   "source": [
    "**TASK 6.3: Create a new individual of Researcher named \"Jane Smith\"**"
   ]
  },
  {
   "cell_type": "code",
   "execution_count": 6,
   "id": "85672dfc",
   "metadata": {},
   "outputs": [
    {
     "name": "stdout",
     "output_type": "stream",
     "text": [
      "http://somewhere#JaneSmith http://www.w3.org/1999/02/22-rdf-syntax-ns#type http://somewhere#Researcher\n"
     ]
    }
   ],
   "source": [
    "g.add((ns.JaneSmith, RDF.type, ns.Researcher))\n",
    "for subj, pred, obj in g.triples((ns.JaneSmith, None , None)):\n",
    "    print(subj, pred, obj) "
   ]
  },
  {
   "cell_type": "markdown",
   "id": "106e94f3",
   "metadata": {},
   "source": [
    "**TASK 6.4: Add to the individual JaneSmith the fullName, given and family names**"
   ]
  },
  {
   "cell_type": "code",
   "execution_count": 7,
   "id": "76dcfee6",
   "metadata": {},
   "outputs": [
    {
     "name": "stdout",
     "output_type": "stream",
     "text": [
      "http://somewhere#JaneSmith http://www.w3.org/1999/02/22-rdf-syntax-ns#type http://somewhere#Researcher\n",
      "http://somewhere#JaneSmith http://www.w3.org/2001/vcard-rdf/3.0/FN Jane Smith\n",
      "http://somewhere#JaneSmith http://www.w3.org/2001/vcard-rdf/3.0/Given Jane\n",
      "http://somewhere#JaneSmith http://www.w3.org/2001/vcard-rdf/3.0/Family Smith\n"
     ]
    }
   ],
   "source": [
    "fullName = Literal(\"Jane Smith\")\n",
    "given = Literal(\"Jane\")\n",
    "full = Literal(\"Smith\")\n",
    "vcard = Namespace(\"http://www.w3.org/2001/vcard-rdf/3.0/\")\n",
    "g.add((ns.JaneSmith, vcard.FN, fullName))\n",
    "g.add((ns.JaneSmith, vcard.Given, given))\n",
    "g.add((ns.JaneSmith, vcard.Family, full))\n",
    "for subj, pred, obj in g.triples((ns.JaneSmith, None , None)):\n",
    "    print(subj, pred, obj) "
   ]
  },
  {
   "cell_type": "markdown",
   "id": "8381fa64",
   "metadata": {},
   "source": [
    "**TASK 6.5: Add UPM as the university where John Smith works**"
   ]
  },
  {
   "cell_type": "code",
   "execution_count": 9,
   "id": "1655884b",
   "metadata": {},
   "outputs": [
    {
     "name": "stdout",
     "output_type": "stream",
     "text": [
      "http://somewhere#JohnSmith http://www.w3.org/1999/02/22-rdf-syntax-ns#type http://somewhere#Person\n",
      "http://somewhere#JohnSmith http://www.w3.org/2001/vcard-rdf/3.0/Given John\n",
      "http://somewhere#JohnSmith http://www.w3.org/2001/vcard-rdf/3.0/FN John Smith\n",
      "http://somewhere#JohnSmith http://www.w3.org/2001/vcard-rdf/3.0/Family Smith\n",
      "http://somewhere#JohnSmith http://www.w3.org/2001/vcard-rdf/3.0#WorksAt UPM\n",
      "http://somewhere#JohnSmith http://www.w3.org/2001/vcard-rdf/3.0#WorksAt http://somewhere#University\n"
     ]
    }
   ],
   "source": [
    "g.add((ns.UPM, RDF.type, ns.University))\n",
    "g.add((ns.JohnSmith, vcard_p.WorksAt, ns.University))\n",
    "for subj, pred, obj in g.triples((ns.JohnSmith, None , None)):\n",
    "    print(subj, pred, obj) "
   ]
  }
 ],
 "metadata": {
  "kernelspec": {
   "display_name": "Python 3 (ipykernel)",
   "language": "python",
   "name": "python3"
  },
  "language_info": {
   "codemirror_mode": {
    "name": "ipython",
    "version": 3
   },
   "file_extension": ".py",
   "mimetype": "text/x-python",
   "name": "python",
   "nbconvert_exporter": "python",
   "pygments_lexer": "ipython3",
   "version": "3.8.5"
  }
 },
 "nbformat": 4,
 "nbformat_minor": 5
}
