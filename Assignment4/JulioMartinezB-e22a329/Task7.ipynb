{
 "cells": [
  {
   "cell_type": "code",
   "execution_count": null,
   "id": "f3501bdd",
   "metadata": {},
   "outputs": [],
   "source": [
    "!pip install rdflib \n",
    "github_storage = \"https://raw.githubusercontent.com/FacultadInformatica-LinkedData/Curso2020-2021/master/Assignment4\""
   ]
  },
  {
   "cell_type": "code",
   "execution_count": 9,
   "id": "1eccc694",
   "metadata": {},
   "outputs": [
    {
     "data": {
      "text/plain": [
       "<Graph identifier=N952e16f0cb1e40ef88fccd0c7b762374 (<class 'rdflib.graph.Graph'>)>"
      ]
     },
     "execution_count": 9,
     "metadata": {},
     "output_type": "execute_result"
    }
   ],
   "source": [
    "from rdflib import Graph, Namespace, Literal\n",
    "from rdflib.namespace import RDF, RDFS\n",
    "from rdflib.plugins.sparql import prepareQuery\n",
    "g = Graph()\n",
    "g.namespace_manager.bind('ns', Namespace(\"http://somewhere#\"), override=False)\n",
    "g.namespace_manager.bind('vcard', Namespace(\"http://www.w3.org/2001/vcard-rdf/3.0#\"), override=False)\n",
    "g.parse(github_storage+\"/resources/example5.rdf\", format=\"xml\")"
   ]
  },
  {
   "cell_type": "markdown",
   "id": "133f017e",
   "metadata": {},
   "source": [
    "**TASK 7.1: List all subclasses of \"Person\" with RDFLib and SPARQL**"
   ]
  },
  {
   "cell_type": "code",
   "execution_count": 17,
   "id": "35c39fb6",
   "metadata": {},
   "outputs": [],
   "source": [
    "#RDFLib \n",
    "ns=Namespace(\"http://somewhere#\")\n",
    "for subj,pred,obj in g.triples((None, RDFS.subClassOf,ns.Person)):\n",
    "    print(subj)"
   ]
  },
  {
   "cell_type": "code",
   "execution_count": 14,
   "id": "e17c762d",
   "metadata": {},
   "outputs": [],
   "source": [
    "# SPARQL \n",
    "from rdflib.plugins.sparql import prepareQuery\n",
    "\n",
    "q1 = prepareQuery('''\n",
    "  SELECT \n",
    "    ?subj\n",
    "  WHERE { \n",
    "    ?subj  rdfs:subClassOf/rdfs:subClassOf*  ns:Person. \n",
    "  }\n",
    "  ''', initNs = { \"ns\": ns,\"rdfs\":RDFS}\n",
    ")\n",
    "for p in g.query(q1):\n",
    "    print(p)"
   ]
  },
  {
   "cell_type": "markdown",
   "id": "6282a139",
   "metadata": {},
   "source": [
    "**TASK 7.2: List all individuals of \"Person\" with RDFLib and SPARQL (remember the subClasses)**"
   ]
  },
  {
   "cell_type": "code",
   "execution_count": null,
   "id": "b3503c17",
   "metadata": {},
   "outputs": [],
   "source": [
    "#RDFLib\n",
    "for subj in g.subjects(RDF.type,ns.Person):\n",
    "  print(subj)\n",
    "  \n",
    "\n",
    "for subj in g.subjects(RDF.type/RDFS.subClassOf,ns.Person):\n",
    "  print(subj) "
   ]
  },
  {
   "cell_type": "code",
   "execution_count": null,
   "id": "59df8b78",
   "metadata": {},
   "outputs": [],
   "source": [
    "#SPARQL\n",
    "q2 = prepareQuery('''\n",
    "SELECT\n",
    "?subj \n",
    "WHERE {\n",
    "  ?subj rdf:type/rdfs:subClassOf* ns:Person\n",
    "}\n",
    "''',\n",
    "initNs = {\"ns\": ns}\n",
    ")\n",
    "for p in g.query(q2):\n",
    "    print(p)"
   ]
  },
  {
   "cell_type": "markdown",
   "id": "92b3c7ff",
   "metadata": {},
   "source": [
    "**TASK 7.3: List all individuals of \"Person\" and all their properties including their class with RDFLib and SPARQL**"
   ]
  },
  {
   "cell_type": "code",
   "execution_count": null,
   "id": "a36bcce1",
   "metadata": {},
   "outputs": [],
   "source": [
    "#RDFLib\n",
    "print(\"RDFLib:\")\n",
    "for subj, pred, obj in g.triples((None, RDF.type, ns.Person)):\n",
    "    for x, y, z in g.triples((subj, None, None)):\n",
    "        print(x, y, z)"
   ]
  },
  {
   "cell_type": "code",
   "execution_count": null,
   "id": "7e3652e8",
   "metadata": {},
   "outputs": [],
   "source": [
    "#SPARQL\n",
    "print(\"SPARQL:\")\n",
    "q3 = prepareQuery('''\n",
    "SELECT ?subj ?prop ?obj\n",
    "WHERE{\n",
    "  ?subj rdf:type ns:Person.\n",
    "?subj ?prop ?obj\n",
    "}\n",
    "''',\n",
    "initNs = {\"ns\": ns}\n",
    ")\n",
    "for r in g.query(q3):\n",
    "    print(r)"
   ]
  }
 ],
 "metadata": {
  "kernelspec": {
   "display_name": "Python 3 (ipykernel)",
   "language": "python",
   "name": "python3"
  },
  "language_info": {
   "codemirror_mode": {
    "name": "ipython",
    "version": 3
   },
   "file_extension": ".py",
   "mimetype": "text/x-python",
   "name": "python",
   "nbconvert_exporter": "python",
   "pygments_lexer": "ipython3",
   "version": "3.8.5"
  }
 },
 "nbformat": 4,
 "nbformat_minor": 5
}
