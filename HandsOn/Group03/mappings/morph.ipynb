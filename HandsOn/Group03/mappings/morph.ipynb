{
 "cells": [
  {
   "cell_type": "markdown",
   "metadata": {
    "toc": true
   },
   "source": [
    "<h1>Table of Contents<span class=\"tocSkip\"></span></h1>\n",
    "<div class=\"toc\"><ul class=\"toc-item\"><li><span><a href=\"#Morph-KGC-Tutorial\" data-toc-modified-id=\"Morph-KGC-Tutorial-1\"><span class=\"toc-item-num\">1&nbsp;&nbsp;</span><strong><a href=\"https://github.com/oeg-upm/morph-kgc\" rel=\"nofollow\" target=\"_blank\">Morph-KGC</a> Tutorial</strong></a></span><ul class=\"toc-item\"><li><span><a href=\"#Load-Knowledge-Graph-to-RDFLib\" data-toc-modified-id=\"Load-Knowledge-Graph-to-RDFLib-1.1\"><span class=\"toc-item-num\">1.1&nbsp;&nbsp;</span><strong>Load Knowledge Graph to <a href=\"https://rdflib.readthedocs.io\" rel=\"nofollow\" target=\"_blank\">RDFLib</a></strong></a></span></li><li><span><a href=\"#Load-Knowledge-Graph-to-Oxigraph\" data-toc-modified-id=\"Load-Knowledge-Graph-to-Oxigraph-1.2\"><span class=\"toc-item-num\">1.2&nbsp;&nbsp;</span><strong>Load Knowledge Graph to <a href=\"https://oxigraph.org/pyoxigraph/\" rel=\"nofollow\" target=\"_blank\">Oxigraph</a></strong></a></span></li><li><span><a href=\"#Create-Knowledge-Graph-via-Command-Line\" data-toc-modified-id=\"Create-Knowledge-Graph-via-Command-Line-1.3\"><span class=\"toc-item-num\">1.3&nbsp;&nbsp;</span><strong>Create Knowledge Graph via Command Line</strong></a></span></li></ul></li></ul></div>"
   ]
  },
  {
   "cell_type": "markdown",
   "metadata": {
    "id": "jQIDSTs1PKhg"
   },
   "source": [
    "# **[Morph-KGC](https://github.com/oeg-upm/morph-kgc) Tutorial**\n",
    "\n",
    "**[Morph-KGC](https://github.com/oeg-upm/morph-kgc)** is an engine that constructs **[RDF](https://www.w3.org/TR/rdf11-concepts/)** and **[RDF-star](https://w3c.github.io/rdf-star/cg-spec/2021-12-17.html)** knowledge graphs from heterogeneous data sources with the **[R2RML](https://www.w3.org/TR/r2rml/)**, **[RML](https://rml.io/specs/rml/)** and **[RML-star](https://kg-construct.github.io/rml-star-spec/)** mapping languages. The full documentation of Morph-KGC is available in **[Read the Docs](https://morph-kgc.readthedocs.io/en/latest/)**.\n",
    "\n",
    "There are two different options to run Morph-KGC:\n",
    "\n",
    "- As a **library**, integrating with **[RDFLib](https://rdflib.readthedocs.io)** and **[Oxigraph](https://oxigraph.org/pyoxigraph)**.\n",
    "- Via the **command line**.\n",
    "\n",
    "Morph-KGC currently supports the following input data formats:\n",
    "- **Relational databases**: **[MySQL](https://www.mysql.com/)**, **[PostgreSQL](https://www.postgresql.org/)**, **[Oracle](https://www.oracle.com/database/)**, **[Microsoft SQL Server](https://www.microsoft.com/sql-server)**, **[MariaDB](https://mariadb.org/)**, **[SQLite](https://www.sqlite.org)**.\n",
    "- **Tabular files**: **[CSV](https://en.wikipedia.org/wiki/Comma-separated_values)**, **[TSV](https://en.wikipedia.org/wiki/Tab-separated_values)**, **[Excel](https://www.microsoft.com/en-us/microsoft-365/excel)**, **[Parquet](https://parquet.apache.org/documentation/latest/)**, **[Feather](https://arrow.apache.org/docs/python/feather.html)**, **[ORC](https://orc.apache.org/)**, **[Stata](https://www.stata.com/)**, **[SAS](https://www.sas.com)**, **[SPSS](https://www.ibm.com/analytics/spss-statistics-software)**, **[ODS](https://en.wikipedia.org/wiki/OpenDocument)**.\n",
    "- **Hierarchical files**: **[JSON](https://www.json.org)**, **[XML](https://www.w3.org/TR/xml/)**.\n",
    "\n",
    "This tutorial shows the different alternatives to run Morph-KGC.\n"
   ]
  },
  {
   "cell_type": "markdown",
   "metadata": {
    "id": "bXYRQ_W2PdjU"
   },
   "source": [
    "## **Load Knowledge Graph to [RDFLib](https://rdflib.readthedocs.io)**\n",
    "\n",
    "**[RDFLib](https://rdflib.readthedocs.io)** is the reference library to work with RDF in Python. Morph-KGC can be used as a **library** to create a knowledge graph and load it to RDFLib. In this example we will use the **[GTFS-Madrid-Bench](https://github.com/oeg-upm/gtfs-bench)** with **CSV** data. Morph-KGC allows to access mappings and data **remotely**, so we will use this functionality to avoid downloading the data and the mappings ourselves. The RML mappings are available [here](https://github.com/oeg-upm/morph-kgc/blob/main/examples/tutorial/mapping.gtfs.ttl) and the data is available [here](https://github.com/oeg-upm/morph-kgc/tree/main/examples/csv/data)."
   ]
  },
  {
   "cell_type": "markdown",
   "metadata": {
    "id": "HlzLovomSjH9"
   },
   "source": [
    "First of all, we need to **install** [Morph-KGC](https://pypi.org/project/morph-kgc) (this will also install [RDFLib](https://pypi.org/project/rdflib/) and [Oxigraph](https://pypi.org/project/pyoxigraph/))."
   ]
  },
  {
   "cell_type": "code",
   "execution_count": 1,
   "metadata": {
    "colab": {
     "base_uri": "https://localhost:8080/"
    },
    "executionInfo": {
     "elapsed": 7200,
     "status": "ok",
     "timestamp": 1666516697288,
     "user": {
      "displayName": "ADRIAN GIRON JIMENEZ",
      "userId": "02602597339181192978"
     },
     "user_tz": -120
    },
    "id": "xM4SFlPkPmDZ",
    "outputId": "4010d805-3625-48f4-fda9-bde19b6ab5ca"
   },
   "outputs": [
    {
     "name": "stdout",
     "output_type": "stream",
     "text": [
      "Looking in indexes: https://pypi.org/simple, https://us-python.pkg.dev/colab-wheels/public/simple/\n",
      "Collecting morph-kgc\n",
      "  Downloading morph_kgc-2.2.0-py3-none-any.whl (40 kB)\n",
      "\u001b[K     |████████████████████████████████| 40 kB 6.4 MB/s \n",
      "\u001b[?25hRequirement already satisfied: pandas>=1.3.0 in /usr/local/lib/python3.7/dist-packages (from morph-kgc) (1.3.5)\n",
      "Collecting sql-metadata>=2.3.0\n",
      "  Downloading sql_metadata-2.6.0-py3-none-any.whl (21 kB)\n",
      "Requirement already satisfied: SQLAlchemy>=1.4.0 in /usr/local/lib/python3.7/dist-packages (from morph-kgc) (1.4.41)\n",
      "Collecting rdflib>=6.1.1\n",
      "  Downloading rdflib-6.2.0-py3-none-any.whl (500 kB)\n",
      "\u001b[K     |████████████████████████████████| 500 kB 63.9 MB/s \n",
      "\u001b[?25hCollecting pyoxigraph>=0.3.0\n",
      "  Downloading pyoxigraph-0.3.8-cp37-abi3-manylinux_2_17_x86_64.manylinux2014_x86_64.whl (6.1 MB)\n",
      "\u001b[K     |████████████████████████████████| 6.1 MB 63.7 MB/s \n",
      "\u001b[?25hCollecting elementpath>=2.4.0\n",
      "  Downloading elementpath-3.0.2-py3-none-any.whl (189 kB)\n",
      "\u001b[K     |████████████████████████████████| 189 kB 68.0 MB/s \n",
      "\u001b[?25hCollecting falcon>=3.0.0\n",
      "  Downloading falcon-3.1.0-cp37-cp37m-manylinux_2_5_x86_64.manylinux1_x86_64.manylinux_2_17_x86_64.manylinux2014_x86_64.whl (7.6 MB)\n",
      "\u001b[K     |████████████████████████████████| 7.6 MB 42.1 MB/s \n",
      "\u001b[?25hCollecting jsonpath-python>=1.0.5\n",
      "  Downloading jsonpath_python-1.0.6-py3-none-any.whl (7.6 kB)\n",
      "Requirement already satisfied: numpy>=1.17.3 in /usr/local/lib/python3.7/dist-packages (from pandas>=1.3.0->morph-kgc) (1.21.6)\n",
      "Requirement already satisfied: pytz>=2017.3 in /usr/local/lib/python3.7/dist-packages (from pandas>=1.3.0->morph-kgc) (2022.4)\n",
      "Requirement already satisfied: python-dateutil>=2.7.3 in /usr/local/lib/python3.7/dist-packages (from pandas>=1.3.0->morph-kgc) (2.8.2)\n",
      "Requirement already satisfied: six>=1.5 in /usr/local/lib/python3.7/dist-packages (from python-dateutil>=2.7.3->pandas>=1.3.0->morph-kgc) (1.15.0)\n",
      "Requirement already satisfied: setuptools in /usr/local/lib/python3.7/dist-packages (from rdflib>=6.1.1->morph-kgc) (57.4.0)\n",
      "Collecting isodate\n",
      "  Downloading isodate-0.6.1-py2.py3-none-any.whl (41 kB)\n",
      "\u001b[K     |████████████████████████████████| 41 kB 693 kB/s \n",
      "\u001b[?25hRequirement already satisfied: importlib-metadata in /usr/local/lib/python3.7/dist-packages (from rdflib>=6.1.1->morph-kgc) (4.13.0)\n",
      "Requirement already satisfied: pyparsing in /usr/local/lib/python3.7/dist-packages (from rdflib>=6.1.1->morph-kgc) (3.0.9)\n",
      "Requirement already satisfied: sqlparse<0.5.0,>=0.4.1 in /usr/local/lib/python3.7/dist-packages (from sql-metadata>=2.3.0->morph-kgc) (0.4.3)\n",
      "Requirement already satisfied: greenlet!=0.4.17 in /usr/local/lib/python3.7/dist-packages (from SQLAlchemy>=1.4.0->morph-kgc) (1.1.3.post0)\n",
      "Requirement already satisfied: zipp>=0.5 in /usr/local/lib/python3.7/dist-packages (from importlib-metadata->rdflib>=6.1.1->morph-kgc) (3.9.0)\n",
      "Requirement already satisfied: typing-extensions>=3.6.4 in /usr/local/lib/python3.7/dist-packages (from importlib-metadata->rdflib>=6.1.1->morph-kgc) (4.1.1)\n",
      "Installing collected packages: isodate, sql-metadata, rdflib, pyoxigraph, jsonpath-python, falcon, elementpath, morph-kgc\n",
      "Successfully installed elementpath-3.0.2 falcon-3.1.0 isodate-0.6.1 jsonpath-python-1.0.6 morph-kgc-2.2.0 pyoxigraph-0.3.8 rdflib-6.2.0 sql-metadata-2.6.0\n"
     ]
    }
   ],
   "source": [
    "!pip install morph-kgc"
   ]
  },
  {
   "cell_type": "markdown",
   "metadata": {
    "id": "eEaaoTnkTJBu"
   },
   "source": [
    "Now we just need to **import** Morph-KGC and we are ready to go!"
   ]
  },
  {
   "cell_type": "code",
   "execution_count": 2,
   "metadata": {
    "executionInfo": {
     "elapsed": 356,
     "status": "ok",
     "timestamp": 1666516697635,
     "user": {
      "displayName": "ADRIAN GIRON JIMENEZ",
      "userId": "02602597339181192978"
     },
     "user_tz": -120
    },
    "id": "u4UZHlZUOxBL"
   },
   "outputs": [],
   "source": [
    "import morph_kgc"
   ]
  },
  {
   "cell_type": "markdown",
   "metadata": {
    "id": "90laT8Tvz4Gj"
   },
   "source": [
    "To run Morph-KGC it is neccesary to provide some information. This is done via a config **INI** file. When running Morph-KGC as a **library**, this configuration can be provided as a **string** or as a **file path**. Below there is a basic config file for our example provided as a string. The _config_ indicates the path to a mapping file."
   ]
  },
  {
   "cell_type": "code",
   "execution_count": 3,
   "metadata": {
    "colab": {
     "base_uri": "https://localhost:8080/"
    },
    "executionInfo": {
     "elapsed": 15841,
     "status": "ok",
     "timestamp": 1666516713473,
     "user": {
      "displayName": "ADRIAN GIRON JIMENEZ",
      "userId": "02602597339181192978"
     },
     "user_tz": -120
    },
    "id": "IdYCEQCrUrj-",
    "outputId": "ede47494-84b2-422f-e37f-ff56075ffd92"
   },
   "outputs": [
    {
     "name": "stdout",
     "output_type": "stream",
     "text": [
      "Mounted at /content/drive\n"
     ]
    }
   ],
   "source": [
    "from google.colab import drive\n",
    "drive.mount('/content/drive')"
   ]
  },
  {
   "cell_type": "code",
   "execution_count": 4,
   "metadata": {
    "executionInfo": {
     "elapsed": 7,
     "status": "ok",
     "timestamp": 1666516713474,
     "user": {
      "displayName": "ADRIAN GIRON JIMENEZ",
      "userId": "02602597339181192978"
     },
     "user_tz": -120
    },
    "id": "fL5hqV6IWa0b"
   },
   "outputs": [],
   "source": [
    "config = \"\"\"\n",
    "             [/content/drive/MyDrive/MSc/odkg/handsOn/EstudioPatiosEscolares2022updated.csv]\n",
    "             mappings: /content/drive/MyDrive/MSc/odkg/handsOn/output.rml.ttl\n",
    "         \"\"\""
   ]
  },
  {
   "cell_type": "markdown",
   "metadata": {
    "id": "loiJCxBF01cp"
   },
   "source": [
    "We just need to call `materialize` passing our _config_ and Morph-KGC will create the knowledge graph and load it to RDFLib."
   ]
  },
  {
   "cell_type": "code",
   "execution_count": 5,
   "metadata": {
    "executionInfo": {
     "elapsed": 3552,
     "status": "ok",
     "timestamp": 1666516717020,
     "user": {
      "displayName": "ADRIAN GIRON JIMENEZ",
      "userId": "02602597339181192978"
     },
     "user_tz": -120
    },
    "id": "RSFNbylgTVKy"
   },
   "outputs": [],
   "source": [
    "g = morph_kgc.materialize(config)"
   ]
  },
  {
   "cell_type": "code",
   "execution_count": 6,
   "metadata": {
    "colab": {
     "base_uri": "https://localhost:8080/"
    },
    "executionInfo": {
     "elapsed": 1457,
     "status": "ok",
     "timestamp": 1666516718472,
     "user": {
      "displayName": "ADRIAN GIRON JIMENEZ",
      "userId": "02602597339181192978"
     },
     "user_tz": -120
    },
    "id": "ApHC_5sVbMIm",
    "outputId": "8567d6a5-c9ab-43b9-b5fb-e17a7836fec6"
   },
   "outputs": [
    {
     "data": {
      "text/plain": [
       "<Graph identifier=N842d7e62f92744c290f1357811823e78 (<class 'rdflib.graph.Graph'>)>"
      ]
     },
     "execution_count": 6,
     "metadata": {},
     "output_type": "execute_result"
    }
   ],
   "source": [
    "v = g.serialize(destination='/content/drive/MyDrive/MSc/odkg/handsOn/schoolFinderRDF.ttl', format=\"ttl\")\n",
    "v"
   ]
  },
  {
   "cell_type": "code",
   "execution_count": 8,
   "metadata": {
    "colab": {
     "base_uri": "https://localhost:8080/"
    },
    "executionInfo": {
     "elapsed": 229,
     "status": "ok",
     "timestamp": 1666516879380,
     "user": {
      "displayName": "ADRIAN GIRON JIMENEZ",
      "userId": "02602597339181192978"
     },
     "user_tz": -120
    },
    "id": "sbsHpqQEF3RF",
    "outputId": "de85f524-6d55-4eb7-a817-bb42b050151b"
   },
   "outputs": [
    {
     "name": "stdout",
     "output_type": "stream",
     "text": [
      "http://smartcity.linkeddata.es/schoolfinder/resource/school/4693138 http://smartcity.linkeddata.es/schoolfinder/resource/contact/4693138\n"
     ]
    }
   ],
   "source": [
    "from rdflib import Graph, Namespace, Literal\n",
    "from rdflib.namespace import RDF, RDFS\n",
    "from rdflib.plugins.sparql import prepareQuery\n",
    "\n",
    "#School and contact given a phone\n",
    "\n",
    "ont = Namespace(\"http://smartcity.linkeddata.es/schoolfinder/ontology/\")\n",
    "\n",
    "q1 = prepareQuery('''\n",
    "        SELECT ?s ?c WHERE {\n",
    "             ?s a ont:School .\n",
    "             ?s ont:hasContact ?c .\n",
    "             ?c ont:phone \"913 324 348\"\n",
    "         }\n",
    "  ''',\n",
    "  initNs = {\"ont\": ont}\n",
    ")\n",
    "\n",
    "for r in v.query(q1):\n",
    " print(r.s, r.c)"
   ]
  },
  {
   "cell_type": "code",
   "execution_count": 1,
   "metadata": {
    "id": "2P3qHbliJqAN"
   },
   "outputs": [
    {
     "ename": "NameError",
     "evalue": "name 'Namespace' is not defined",
     "output_type": "error",
     "traceback": [
      "\u001b[0;31m---------------------------------------------------------------------------\u001b[0m",
      "\u001b[0;31mNameError\u001b[0m                                 Traceback (most recent call last)",
      "Input \u001b[0;32mIn [1]\u001b[0m, in \u001b[0;36m<module>\u001b[0;34m\u001b[0m\n\u001b[1;32m      1\u001b[0m \u001b[38;5;66;03m#Schools in a given district\u001b[39;00m\n\u001b[0;32m----> 3\u001b[0m ont \u001b[38;5;241m=\u001b[39m \u001b[43mNamespace\u001b[49m(\u001b[38;5;124m\"\u001b[39m\u001b[38;5;124mhttp://smartcity.linkeddata.es/schoolfinder/ontology/\u001b[39m\u001b[38;5;124m\"\u001b[39m)\n\u001b[1;32m      5\u001b[0m q1 \u001b[38;5;241m=\u001b[39m prepareQuery(\u001b[38;5;124m'''\u001b[39m\n\u001b[1;32m      6\u001b[0m \u001b[38;5;124m        SELECT ?s ?n WHERE \u001b[39m\u001b[38;5;124m{\u001b[39m\n\u001b[1;32m      7\u001b[0m \u001b[38;5;124m             ?s a ont:School .\u001b[39m\n\u001b[0;32m   (...)\u001b[0m\n\u001b[1;32m     14\u001b[0m   initNs \u001b[38;5;241m=\u001b[39m {\u001b[38;5;124m\"\u001b[39m\u001b[38;5;124mont\u001b[39m\u001b[38;5;124m\"\u001b[39m: ont}\n\u001b[1;32m     15\u001b[0m )\n\u001b[1;32m     17\u001b[0m \u001b[38;5;28;01mfor\u001b[39;00m r \u001b[38;5;129;01min\u001b[39;00m v\u001b[38;5;241m.\u001b[39mquery(q1):\n",
      "\u001b[0;31mNameError\u001b[0m: name 'Namespace' is not defined"
     ]
    }
   ],
   "source": [
    "#Schools in a given district\n",
    "\n",
    "ont = Namespace(\"http://smartcity.linkeddata.es/schoolfinder/ontology/\")\n",
    "\n",
    "q1 = prepareQuery('''\n",
    "        SELECT ?s ?n WHERE {\n",
    "             ?s a ont:School .\n",
    "             ?s ont:hasSchoolGround ?sc .\n",
    "             ?sc ont:hasLocalization ?l .\n",
    "             ?l ont:district \"Valdefuentes\" .\n",
    "             ?s ont:name ?n\n",
    "         }\n",
    "  ''',\n",
    "  initNs = {\"ont\": ont}\n",
    ")\n",
    "\n",
    "for r in v.query(q1):\n",
    " print(r.s, r.n)"
   ]
  },
  {
   "cell_type": "code",
   "execution_count": null,
   "metadata": {
    "id": "gdARs4Q_LGlm"
   },
   "outputs": [],
   "source": [
    "#Schools and their url in a given district\n",
    "\n",
    "ont = Namespace(\"http://smartcity.linkeddata.es/schoolfinder/ontology/\")\n",
    "\n",
    "q1 = prepareQuery('''\n",
    "        SELECT ?s ?n ?url WHERE {\n",
    "             ?s a ont:School .\n",
    "             ?s ont:hasSchoolGround ?sc .\n",
    "             ?sc ont:hasLocalization ?l .\n",
    "             ?l ont:district \"Hortaleza\" .\n",
    "             ?s ont:name ?n .\n",
    "             ?s ont:hasContact ?c .\n",
    "             ?c ont:contentURL ?url\n",
    "         }\n",
    "  ''',\n",
    "  initNs = {\"ont\": ont}\n",
    ")\n",
    "\n",
    "for r in v.query(q1):\n",
    " print(r.s, r.n, r.url)"
   ]
  },
  {
   "cell_type": "code",
   "execution_count": 14,
   "metadata": {
    "colab": {
     "base_uri": "https://localhost:8080/"
    },
    "executionInfo": {
     "elapsed": 244,
     "status": "ok",
     "timestamp": 1666517943805,
     "user": {
      "displayName": "ADRIAN GIRON JIMENEZ",
      "userId": "02602597339181192978"
     },
     "user_tz": -120
    },
    "id": "2hRzhFh3L4X2",
    "outputId": "16a6b75a-b036-4c3e-b5ba-d20a503b7c4f"
   },
   "outputs": [
    {
     "name": "stdout",
     "output_type": "stream",
     "text": [
      "http://smartcity.linkeddata.es/schoolfinder/resource/school/5314 , 34 , 36 , 41 , 60 , 116 , 118 , 119 , 148 Embajadores, acacias  embajadores\n"
     ]
    }
   ],
   "source": [
    "#School and their ways to go given the name\n",
    "\n",
    "ont = Namespace(\"http://smartcity.linkeddata.es/schoolfinder/ontology/\")\n",
    "\n",
    "q1 = prepareQuery('''\n",
    "        SELECT ?s ?b ?m ?r WHERE {\n",
    "             ?s a ont:School .\n",
    "             ?s ont:hasSchoolGround ?sc .\n",
    "             ?sc ont:hasAccessibility ?a .\n",
    "             ?a ont:bus ?b .\n",
    "             ?a ont:metro ?m .\n",
    "             ?a ont:renfe ?r .\n",
    "             ?s ont:name \"Colegio público santa maría\"  \n",
    "         }\n",
    "  ''',\n",
    "  initNs = {\"ont\": ont}\n",
    ")\n",
    "\n",
    "for r in v.query(q1):\n",
    " print(r.s, r.b, r.m, r.r)"
   ]
  },
  {
   "cell_type": "markdown",
   "metadata": {
    "id": "Q7SDl-w3eZ9T"
   },
   "source": [
    "**That is it!** Now we can work with our RDFLib graph: query, navigate or save the graph and more. For instance, below we query the knowledge graph with [query 3](https://github.com/oeg-upm/gtfs-bench/blob/master/queries/q3.rq) of the GTFS-Madrid-Bench."
   ]
  },
  {
   "cell_type": "code",
   "execution_count": null,
   "metadata": {
    "colab": {
     "base_uri": "https://localhost:8080/",
     "height": 380
    },
    "executionInfo": {
     "elapsed": 5,
     "status": "error",
     "timestamp": 1666366457352,
     "user": {
      "displayName": "ADRIAN GIRON JIMENEZ",
      "userId": "02602597339181192978"
     },
     "user_tz": -120
    },
    "id": "kmhJWzFQfwXZ",
    "outputId": "23718be4-8d5f-434e-e078-90e416098ee5"
   },
   "outputs": [
    {
     "ename": "AttributeError",
     "evalue": "ignored",
     "output_type": "error",
     "traceback": [
      "\u001b[0;31m---------------------------------------------------------------------------\u001b[0m",
      "\u001b[0;31mAttributeError\u001b[0m                            Traceback (most recent call last)",
      "\u001b[0;32m<ipython-input-43-67394392ca87>\u001b[0m in \u001b[0;36m<module>\u001b[0;34m\u001b[0m\n\u001b[1;32m      9\u001b[0m q1 = prepareQuery('''\n\u001b[1;32m     10\u001b[0m         \u001b[0mDESCRIBE\u001b[0m \u001b[0;34m<\u001b[0m\u001b[0mhttp\u001b[0m\u001b[0;34m:\u001b[0m\u001b[0;34m//\u001b[0m\u001b[0msmartcity\u001b[0m\u001b[0;34m.\u001b[0m\u001b[0mlinkeddata\u001b[0m\u001b[0;34m.\u001b[0m\u001b[0mes\u001b[0m\u001b[0;34m/\u001b[0m\u001b[0mschoolfinder\u001b[0m\u001b[0;34m/\u001b[0m\u001b[0mresource\u001b[0m\u001b[0;34m/\u001b[0m\u001b[0mcontact\u001b[0m\u001b[0;34m/\u001b[0m\u001b[0;36m5260\u001b[0m\u001b[0;34m>\u001b[0m\u001b[0;34m\u001b[0m\u001b[0;34m\u001b[0m\u001b[0m\n\u001b[0;32m---> 11\u001b[0;31m   '''\n\u001b[0m\u001b[1;32m     12\u001b[0m )\n\u001b[1;32m     13\u001b[0m \u001b[0;34m\u001b[0m\u001b[0m\n",
      "\u001b[0;32m/usr/local/lib/python3.7/dist-packages/rdflib/plugins/sparql/processor.py\u001b[0m in \u001b[0;36mprepareQuery\u001b[0;34m(queryString, initNs, base)\u001b[0m\n\u001b[1;32m     19\u001b[0m     \u001b[0mParse\u001b[0m \u001b[0;32mand\u001b[0m \u001b[0mtranslate\u001b[0m \u001b[0ma\u001b[0m \u001b[0mSPARQL\u001b[0m \u001b[0mQuery\u001b[0m\u001b[0;34m\u001b[0m\u001b[0;34m\u001b[0m\u001b[0m\n\u001b[1;32m     20\u001b[0m     \"\"\"\n\u001b[0;32m---> 21\u001b[0;31m     \u001b[0mret\u001b[0m \u001b[0;34m=\u001b[0m \u001b[0mtranslateQuery\u001b[0m\u001b[0;34m(\u001b[0m\u001b[0mparseQuery\u001b[0m\u001b[0;34m(\u001b[0m\u001b[0mqueryString\u001b[0m\u001b[0;34m)\u001b[0m\u001b[0;34m,\u001b[0m \u001b[0mbase\u001b[0m\u001b[0;34m,\u001b[0m \u001b[0minitNs\u001b[0m\u001b[0;34m)\u001b[0m\u001b[0;34m\u001b[0m\u001b[0;34m\u001b[0m\u001b[0m\n\u001b[0m\u001b[1;32m     22\u001b[0m     \u001b[0mret\u001b[0m\u001b[0;34m.\u001b[0m\u001b[0m_original_args\u001b[0m \u001b[0;34m=\u001b[0m \u001b[0;34m(\u001b[0m\u001b[0mqueryString\u001b[0m\u001b[0;34m,\u001b[0m \u001b[0minitNs\u001b[0m\u001b[0;34m,\u001b[0m \u001b[0mbase\u001b[0m\u001b[0;34m)\u001b[0m\u001b[0;34m\u001b[0m\u001b[0;34m\u001b[0m\u001b[0m\n\u001b[1;32m     23\u001b[0m     \u001b[0;32mreturn\u001b[0m \u001b[0mret\u001b[0m\u001b[0;34m\u001b[0m\u001b[0;34m\u001b[0m\u001b[0m\n",
      "\u001b[0;32m/usr/local/lib/python3.7/dist-packages/rdflib/plugins/sparql/algebra.py\u001b[0m in \u001b[0;36mtranslateQuery\u001b[0;34m(q, base, initNs)\u001b[0m\n\u001b[1;32m    872\u001b[0m     )\n\u001b[1;32m    873\u001b[0m \u001b[0;34m\u001b[0m\u001b[0m\n\u001b[0;32m--> 874\u001b[0;31m     \u001b[0mP\u001b[0m\u001b[0;34m,\u001b[0m \u001b[0mPV\u001b[0m \u001b[0;34m=\u001b[0m \u001b[0mtranslate\u001b[0m\u001b[0;34m(\u001b[0m\u001b[0mq\u001b[0m\u001b[0;34m[\u001b[0m\u001b[0;36m1\u001b[0m\u001b[0;34m]\u001b[0m\u001b[0;34m)\u001b[0m\u001b[0;34m\u001b[0m\u001b[0;34m\u001b[0m\u001b[0m\n\u001b[0m\u001b[1;32m    875\u001b[0m     \u001b[0mdatasetClause\u001b[0m \u001b[0;34m=\u001b[0m \u001b[0mq\u001b[0m\u001b[0;34m[\u001b[0m\u001b[0;36m1\u001b[0m\u001b[0;34m]\u001b[0m\u001b[0;34m.\u001b[0m\u001b[0mdatasetClause\u001b[0m\u001b[0;34m\u001b[0m\u001b[0;34m\u001b[0m\u001b[0m\n\u001b[1;32m    876\u001b[0m     \u001b[0;32mif\u001b[0m \u001b[0mq\u001b[0m\u001b[0;34m[\u001b[0m\u001b[0;36m1\u001b[0m\u001b[0;34m]\u001b[0m\u001b[0;34m.\u001b[0m\u001b[0mname\u001b[0m \u001b[0;34m==\u001b[0m \u001b[0;34m\"ConstructQuery\"\u001b[0m\u001b[0;34m:\u001b[0m\u001b[0;34m\u001b[0m\u001b[0;34m\u001b[0m\u001b[0m\n",
      "\u001b[0;32m/usr/local/lib/python3.7/dist-packages/rdflib/plugins/sparql/algebra.py\u001b[0m in \u001b[0;36mtranslate\u001b[0;34m(q)\u001b[0m\n\u001b[1;32m    628\u001b[0m \u001b[0;34m\u001b[0m\u001b[0m\n\u001b[1;32m    629\u001b[0m     \u001b[0;31m# all query types have a where part\u001b[0m\u001b[0;34m\u001b[0m\u001b[0;34m\u001b[0m\u001b[0;34m\u001b[0m\u001b[0m\n\u001b[0;32m--> 630\u001b[0;31m     \u001b[0mM\u001b[0m \u001b[0;34m=\u001b[0m \u001b[0mtranslateGroupGraphPattern\u001b[0m\u001b[0;34m(\u001b[0m\u001b[0mq\u001b[0m\u001b[0;34m.\u001b[0m\u001b[0mwhere\u001b[0m\u001b[0;34m)\u001b[0m\u001b[0;34m\u001b[0m\u001b[0;34m\u001b[0m\u001b[0m\n\u001b[0m\u001b[1;32m    631\u001b[0m \u001b[0;34m\u001b[0m\u001b[0m\n\u001b[1;32m    632\u001b[0m     \u001b[0maggregate\u001b[0m \u001b[0;34m=\u001b[0m \u001b[0;32mFalse\u001b[0m\u001b[0;34m\u001b[0m\u001b[0;34m\u001b[0m\u001b[0m\n",
      "\u001b[0;32m/usr/local/lib/python3.7/dist-packages/rdflib/plugins/sparql/algebra.py\u001b[0m in \u001b[0;36mtranslateGroupGraphPattern\u001b[0;34m(graphPattern)\u001b[0m\n\u001b[1;32m    325\u001b[0m     \"\"\"\n\u001b[1;32m    326\u001b[0m \u001b[0;34m\u001b[0m\u001b[0m\n\u001b[0;32m--> 327\u001b[0;31m     \u001b[0;32mif\u001b[0m \u001b[0mgraphPattern\u001b[0m\u001b[0;34m.\u001b[0m\u001b[0mname\u001b[0m \u001b[0;34m==\u001b[0m \u001b[0;34m\"SubSelect\"\u001b[0m\u001b[0;34m:\u001b[0m\u001b[0;34m\u001b[0m\u001b[0;34m\u001b[0m\u001b[0m\n\u001b[0m\u001b[1;32m    328\u001b[0m         \u001b[0;32mreturn\u001b[0m \u001b[0mToMultiSet\u001b[0m\u001b[0;34m(\u001b[0m\u001b[0mtranslate\u001b[0m\u001b[0;34m(\u001b[0m\u001b[0mgraphPattern\u001b[0m\u001b[0;34m)\u001b[0m\u001b[0;34m[\u001b[0m\u001b[0;36m0\u001b[0m\u001b[0;34m]\u001b[0m\u001b[0;34m)\u001b[0m\u001b[0;34m\u001b[0m\u001b[0;34m\u001b[0m\u001b[0m\n\u001b[1;32m    329\u001b[0m \u001b[0;34m\u001b[0m\u001b[0m\n",
      "\u001b[0;31mAttributeError\u001b[0m: 'NoneType' object has no attribute 'name'"
     ]
    }
   ],
   "source": [
    "from rdflib import Graph, Namespace, Literal\n",
    "from rdflib.namespace import RDF, RDFS\n",
    "from rdflib.plugins.sparql import prepareQuery\n",
    "\n",
    "ont = Namespace(\"http://smartcity.linkeddata.es/schoolfinder/ontology/\")\n",
    "\n",
    "q1 = prepareQuery('''\n",
    "        SELECT ?sc WHERE {\n",
    "             ?sc a ont:Contact\n",
    "\n",
    "         }\n",
    "  '''\n",
    ")\n",
    "\n",
    "for r in v.query(q1):\n",
    " print(r)"
   ]
  },
  {
   "cell_type": "code",
   "execution_count": null,
   "metadata": {
    "id": "DZ9WQN_lCtrK"
   },
   "outputs": [],
   "source": [
    "for s, p, o in v.triples((None, None, ont.SchoolGround)):\n",
    "  print(s, p, o)"
   ]
  },
  {
   "cell_type": "code",
   "execution_count": null,
   "metadata": {
    "id": "1T-cECqEcBbS"
   },
   "outputs": [],
   "source": [
    "q3 = \"\"\"\n",
    "         PREFIX ont: <http://smartcity.linkeddata.es/schoolfinder/ontology>\n",
    "\n",
    "         SELECT ?s WHERE {\n",
    "             ?s a ont:School \n",
    "         }\n",
    "      \"\"\"\n",
    "\n",
    "q3_res = v.query(q3)\n",
    "\n",
    "for r in q3_res:\n",
    "    print(r.s)"
   ]
  },
  {
   "cell_type": "code",
   "execution_count": null,
   "metadata": {
    "id": "U9kTPehifOdS"
   },
   "outputs": [],
   "source": [
    ".?sc ont:hasLocalization ?l \n",
    "             ?l ont:district \"Hortaleza\"^^xsd:string"
   ]
  },
  {
   "cell_type": "markdown",
   "metadata": {
    "id": "LrmEdLWC1q48"
   },
   "source": [
    "We could also have run Morph-KGC with the config from a file. Below we create the _config_ file writing it to disk. "
   ]
  },
  {
   "cell_type": "code",
   "execution_count": null,
   "metadata": {
    "colab": {
     "base_uri": "https://localhost:8080/"
    },
    "executionInfo": {
     "elapsed": 7,
     "status": "ok",
     "timestamp": 1666287675990,
     "user": {
      "displayName": "ADRIAN GIRON JIMENEZ",
      "userId": "02602597339181192978"
     },
     "user_tz": -120
    },
    "id": "t2L960lb127p",
    "outputId": "066d665d-426d-4875-8a40-6a15bd97ca88"
   },
   "outputs": [
    {
     "name": "stdout",
     "output_type": "stream",
     "text": [
      "[GTFS-Madrid-Bench]\n",
      "mappings: https://raw.githubusercontent.com/oeg-upm/morph-kgc/main/examples/tutorial/mapping.gtfs.ttl\n"
     ]
    }
   ],
   "source": [
    "# create the config file\n",
    "!echo \"[GTFS-Madrid-Bench]\" > config.ini\n",
    "!echo \"mappings: https://raw.githubusercontent.com/oeg-upm/morph-kgc/main/examples/tutorial/mapping.gtfs.ttl\" >> config.ini\n",
    "\n",
    "# show the config file\n",
    "!cat config.ini"
   ]
  },
  {
   "cell_type": "markdown",
   "metadata": {
    "id": "m9X45Efu1JDr"
   },
   "source": [
    "We create our knowledge graph again, this time passing the file path to `materialize`."
   ]
  },
  {
   "cell_type": "code",
   "execution_count": null,
   "metadata": {
    "id": "HPl_fvGD2BCJ"
   },
   "outputs": [],
   "source": [
    "g = morph_kgc.materialize('config.ini')"
   ]
  },
  {
   "cell_type": "markdown",
   "metadata": {
    "id": "vf4o9ih-2W49"
   },
   "source": [
    "Usually the default configuration is enough for most use cases. However, in some cases we may need to tune Morph-KGC. For this we can use a `CONFIGURATION` section in the _config_ file. For instance, you can specify which values should be interpreted as NULL (e.g., _#N/A_). You can find the full list of configuration options in the **[documentation](https://morph-kgc.readthedocs.io/en/latest/documentation/#engine-configuration)**. Below you can see an example of a more detailed _config_ file."
   ]
  },
  {
   "cell_type": "code",
   "execution_count": null,
   "metadata": {
    "id": "bkiaLXzN3SyV"
   },
   "outputs": [],
   "source": [
    "config = \"\"\"\n",
    "             [CONGIGURATION]\n",
    "             na_values: #N/A,,N/A\n",
    "             logging_level: DEBUG\n",
    "\n",
    "             [GTFS-Madrid-Bench]\n",
    "             mappings: https://raw.githubusercontent.com/oeg-upm/morph-kgc/main/examples/tutorial/mapping.csv.ttl\n",
    "         \"\"\""
   ]
  },
  {
   "cell_type": "markdown",
   "metadata": {
    "id": "5PTWCzIBjqhu"
   },
   "source": [
    "## **Load Knowledge Graph to [Oxigraph](https://oxigraph.org/pyoxigraph/)**\n",
    "\n",
    "While RDFLib provides much functionality, it does not support **[RDF-star](https://w3c.github.io/rdf-star/cg-spec/2021-12-17.html)** yet. Morph-KGC can create RDF-star knowledge graphs using **[RML-star](https://kg-construct.github.io/rml-star-spec/)** mappings and load them to **[Oxigraph](https://oxigraph.org/pyoxigraph/)**.\n",
    "\n",
    "The following example creates an RDF-star knowledge graph of scientific software metadata (the Morph-KGC software in this example), extracted with [SoMEF](https://github.com/KnowledgeCaptureAndDiscovery/somef). SoMEF extract some characteristics of the software which are annotated with the technique that was used to extract them and also with a confidence value. The **JSON** data is available [here](https://github.com/oeg-upm/morph-kgc/blob/main/examples/tutorial/oeg-upm_morph-kgc.json) and the RML-star mappings are available [here](https://github.com/oeg-upm/morph-kgc/blob/main/examples/tutorial/mapping.somef.ttl)."
   ]
  },
  {
   "cell_type": "markdown",
   "metadata": {
    "id": "aO4hGPKK28U5"
   },
   "source": [
    "As with RDFLib, we just need to create the _config_ and call `materialize_oxigraph`."
   ]
  },
  {
   "cell_type": "code",
   "execution_count": null,
   "metadata": {
    "id": "2dJNM_OwpXel"
   },
   "outputs": [],
   "source": [
    "import morph_kgc\n",
    "\n",
    "config = \"\"\"\n",
    "             [SoMEF]\n",
    "             mappings: https://raw.githubusercontent.com/oeg-upm/morph-kgc/main/examples/tutorial/mapping.somef.ttl\n",
    "         \"\"\"\n",
    "\n",
    "g = morph_kgc.materialize_oxigraph(config)"
   ]
  },
  {
   "cell_type": "markdown",
   "metadata": {
    "id": "D5j8W0vs3NZS"
   },
   "source": [
    "We loaded our knowledge graph to an Oxigraph store, we can now query it with **[SPARQL-star](https://w3c.github.io/rdf-star/cg-spec/editors_draft.html#sparql-star)**. The query below retrieves the license, the technique used to obtain the information and the confidence value."
   ]
  },
  {
   "cell_type": "code",
   "execution_count": null,
   "metadata": {
    "colab": {
     "base_uri": "https://localhost:8080/"
    },
    "executionInfo": {
     "elapsed": 20,
     "status": "ok",
     "timestamp": 1666281407501,
     "user": {
      "displayName": "Julián Arenas Guerrero",
      "userId": "14965756646334325875"
     },
     "user_tz": -120
    },
    "id": "2TdYTy6kp2wN",
    "outputId": "c544a645-4f77-4b82-bc1b-8d0768bdf03d"
   },
   "outputs": [
    {
     "name": "stdout",
     "output_type": "stream",
     "text": [
      "<https://www.w3id.org/okn/i/Software/oeg-upm/morph-kgc> \"https://api.github.com/licenses/apache-2.0\"^^<http://www.w3.org/2001/XMLSchema#anyURI> \"GitHub API\" \"1.0\"\n"
     ]
    }
   ],
   "source": [
    "q = \"\"\"\n",
    "         PREFIX sd: <https://w3id.org/okn/o/sd#>\n",
    "         PREFIX em: <https://www.w3id.org/okn/o/em#>\n",
    "\n",
    "         SELECT * WHERE {\n",
    "             ?sowtware a sd:Software .\n",
    "             << ?software sd:license ?license >> em:confidence ?confidence .\n",
    "             << ?software sd:license ?license >> em:technique ?technique .\n",
    "         }\n",
    "    \"\"\"\n",
    "\n",
    "q_res = g.query(q)\n",
    "\n",
    "for solution in q_res:\n",
    "    print(solution['software'], solution ['license'], solution ['technique'], solution['confidence'])"
   ]
  },
  {
   "cell_type": "markdown",
   "metadata": {
    "id": "vZJpXRcFuDkG"
   },
   "source": [
    "## **Create Knowledge Graph via Command Line**"
   ]
  },
  {
   "cell_type": "markdown",
   "metadata": {
    "id": "Gpw6nbNC4msF"
   },
   "source": [
    "Morph-KGC can also be executed from the **command line**. This is the most recommended option if you work with **large volumes of data**. As before, we need to create a config file. In this example we use again the data from the GTFS-Madrid-Bench."
   ]
  },
  {
   "cell_type": "code",
   "execution_count": null,
   "metadata": {
    "colab": {
     "base_uri": "https://localhost:8080/"
    },
    "executionInfo": {
     "elapsed": 421,
     "status": "ok",
     "timestamp": 1666281407909,
     "user": {
      "displayName": "Julián Arenas Guerrero",
      "userId": "14965756646334325875"
     },
     "user_tz": -120
    },
    "id": "SxksqKc3uKAN",
    "outputId": "a4aebeae-7c80-42ce-82f0-b8af16928380"
   },
   "outputs": [
    {
     "name": "stdout",
     "output_type": "stream",
     "text": [
      "[GTFS-Madrid-Bench]\n",
      "mappings: https://raw.githubusercontent.com/oeg-upm/morph-kgc/main/examples/tutorial/mapping.gtfs.ttl\n"
     ]
    }
   ],
   "source": [
    "# create the config file\n",
    "!echo \"[GTFS-Madrid-Bench]\" > config.ini\n",
    "!echo \"mappings: https://raw.githubusercontent.com/oeg-upm/morph-kgc/main/examples/tutorial/mapping.gtfs.ttl\" >> config.ini\n",
    "\n",
    "# show the config file\n",
    "!cat config.ini"
   ]
  },
  {
   "cell_type": "markdown",
   "metadata": {
    "id": "B7RoKRRF45dQ"
   },
   "source": [
    "The following command will create the knowledge graph and write it to a _knowledge-graph.nt_ file. You just need to provide the path to the _config_ file."
   ]
  },
  {
   "cell_type": "code",
   "execution_count": null,
   "metadata": {
    "colab": {
     "base_uri": "https://localhost:8080/"
    },
    "executionInfo": {
     "elapsed": 4123,
     "status": "ok",
     "timestamp": 1666281412025,
     "user": {
      "displayName": "Julián Arenas Guerrero",
      "userId": "14965756646334325875"
     },
     "user_tz": -120
    },
    "id": "NGfkMb-VucxJ",
    "outputId": "7e728a50-7d45-4322-9adb-1e5416ba52e7"
   },
   "outputs": [
    {
     "name": "stdout",
     "output_type": "stream",
     "text": [
      "INFO | 2022-10-20 15:56:48,980 | 86 mapping rules retrieved.\n",
      "INFO | 2022-10-20 15:56:49,030 | Mapping partition with 83 groups generated.\n",
      "INFO | 2022-10-20 15:56:49,031 | Maximum number of rules within mapping group: 2.\n",
      "INFO | 2022-10-20 15:56:49,035 | Mappings processed in 1.148 seconds.\n",
      "INFO | 2022-10-20 15:56:51,171 | Number of triples generated in total: 2001.\n",
      "INFO | 2022-10-20 15:56:51,172 | Materialization finished in 2.134 seconds.\n"
     ]
    }
   ],
   "source": [
    "!python3 -m morph_kgc config.ini"
   ]
  },
  {
   "cell_type": "markdown",
   "metadata": {
    "id": "7UHqM8W98VLp"
   },
   "source": [
    "Let's take a look to a subset of the generated RDF!"
   ]
  },
  {
   "cell_type": "code",
   "execution_count": null,
   "metadata": {
    "colab": {
     "base_uri": "https://localhost:8080/"
    },
    "executionInfo": {
     "elapsed": 15,
     "status": "ok",
     "timestamp": 1666281412026,
     "user": {
      "displayName": "Julián Arenas Guerrero",
      "userId": "14965756646334325875"
     },
     "user_tz": -120
    },
    "id": "HJMLqWFp5apX",
    "outputId": "e7c7854c-04ba-49d2-87ce-5adc8c5bfa94"
   },
   "outputs": [
    {
     "name": "stdout",
     "output_type": "stream",
     "text": [
      "<http://transport.linkeddata.es/madrid/agency/00000000000000000001> <http://xmlns.com/foaf/0.1/phone> \"00000000000000000001\".\n",
      "<http://transport.linkeddata.es/madrid/agency/00000000000000000001> <http://vocab.gtfs.org/terms#fareUrl> <https://www.crtm.es/billetes-y-tarifas>.\n",
      "<http://transport.linkeddata.es/madrid/metro/stops/000000000000000000os> <http://xmlns.com/foaf/0.1/name> \"000000000000000000br\".\n",
      "<http://transport.linkeddata.es/madrid/metro/stops/0000000000000000006o> <http://xmlns.com/foaf/0.1/name> \"0000000000000000008o\".\n",
      "<http://transport.linkeddata.es/madrid/metro/stops/0000000000000000005r> <http://xmlns.com/foaf/0.1/name> \"0000000000000000008a\".\n",
      "<http://transport.linkeddata.es/madrid/metro/stops/000000000000000000ud> <http://xmlns.com/foaf/0.1/name> \"00000000000000000037\".\n",
      "<http://transport.linkeddata.es/madrid/metro/stops/0000000000000000001r> <http://xmlns.com/foaf/0.1/name> \"000000000000000000j1\".\n",
      "<http://transport.linkeddata.es/madrid/metro/stops/000000000000000000dz> <http://xmlns.com/foaf/0.1/name> \"000000000000000000is\".\n",
      "<http://transport.linkeddata.es/madrid/metro/stops/0000000000000000004y> <http://xmlns.com/foaf/0.1/name> \"000000000000000000c4\".\n",
      "<http://transport.linkeddata.es/madrid/metro/stops/000000000000000000i9> <http://xmlns.com/foaf/0.1/name> \"000000000000000000jf\".\n"
     ]
    }
   ],
   "source": [
    "!head knowledge-graph.nt"
   ]
  },
  {
   "cell_type": "markdown",
   "metadata": {
    "id": "UYChi6168hws"
   },
   "source": [
    "With the generated RDF we could for instance load it to RDFLib (or any triplestore) and pose queries."
   ]
  },
  {
   "cell_type": "code",
   "execution_count": null,
   "metadata": {
    "colab": {
     "base_uri": "https://localhost:8080/"
    },
    "executionInfo": {
     "elapsed": 809,
     "status": "ok",
     "timestamp": 1666281412829,
     "user": {
      "displayName": "Julián Arenas Guerrero",
      "userId": "14965756646334325875"
     },
     "user_tz": -120
    },
    "id": "9tH1KM1Quv0_",
    "outputId": "d7aa6ea6-ac62-472a-92f9-a232c2238d56"
   },
   "outputs": [
    {
     "name": "stdout",
     "output_type": "stream",
     "text": [
      "http://transport.linkeddata.es/madrid/metro/stops/000000000000000000lh 87.0 47.0\n",
      "http://transport.linkeddata.es/madrid/metro/stops/00000000000000000036 151.0 111.0\n",
      "http://transport.linkeddata.es/madrid/metro/stops/000000000000000000dr 697.0 657.0\n",
      "http://transport.linkeddata.es/madrid/metro/stops/0000000000000000006o 231.0 191.0\n",
      "http://transport.linkeddata.es/madrid/metro/stops/000000000000000000xj 739.0 699.0\n",
      "http://transport.linkeddata.es/madrid/metro/stops/0000000000000000007q 830.0 790.0\n",
      "http://transport.linkeddata.es/madrid/metro/stops/000000000000000000ho 929.0 889.0\n",
      "http://transport.linkeddata.es/madrid/metro/stops/000000000000000000tm 579.0 539.0\n",
      "http://transport.linkeddata.es/madrid/metro/stops/000000000000000000dz 716.0 676.0\n",
      "http://transport.linkeddata.es/madrid/metro/stops/000000000000000000gv 441.0 401.0\n",
      "http://transport.linkeddata.es/madrid/metro/stops/000000000000000000qt 750.0 710.0\n",
      "http://transport.linkeddata.es/madrid/metro/stops/000000000000000000e4 476.0 436.0\n"
     ]
    }
   ],
   "source": [
    "import rdflib\n",
    "\n",
    "g = rdflib.Graph()\n",
    "g.parse('knowledge-graph.nt')\n",
    "\n",
    "q3 = \"\"\"\n",
    "         PREFIX gtfs: <http://vocab.gtfs.org/terms#>\n",
    "         PREFIX geo: <http://www.w3.org/2003/01/geo/wgs84_pos#>\n",
    "         PREFIX dct: <http://purl.org/dc/terms/>\n",
    "\n",
    "         SELECT * WHERE {\n",
    "             ?stop a gtfs:Stop . \n",
    "             ?stop gtfs:locationType ?location .\n",
    "             OPTIONAL { ?stop dct:description ?stopDescription . }\n",
    "             OPTIONAL { \n",
    "                 ?stop geo:lat ?stopLat . \n",
    "                 ?stop geo:long ?stopLong .\n",
    "             }\n",
    "             OPTIONAL {?stop gtfs:wheelchairAccessible ?wheelchairAccessible . }\n",
    "             FILTER (?location=<http://transport.linkeddata.es/resource/LocationType/2>)\n",
    "         }\n",
    "      \"\"\"\n",
    "\n",
    "q3_res = g.query(q3)\n",
    "\n",
    "for row in q3_res:\n",
    "    print(row['stop'], row['stopLat'], row['stopLong'])"
   ]
  }
 ],
 "metadata": {
  "colab": {
   "collapsed_sections": [],
   "provenance": [
    {
     "file_id": "1ByFx_NOEfTZeaJ1Wtw3UwTH3H3-Sye2O",
     "timestamp": 1666284541796
    }
   ]
  },
  "kernelspec": {
   "display_name": "Python 3 (ipykernel)",
   "language": "python",
   "name": "python3"
  },
  "language_info": {
   "codemirror_mode": {
    "name": "ipython",
    "version": 3
   },
   "file_extension": ".py",
   "mimetype": "text/x-python",
   "name": "python",
   "nbconvert_exporter": "python",
   "pygments_lexer": "ipython3",
   "version": "3.8.10"
  },
  "toc": {
   "base_numbering": 1,
   "nav_menu": {},
   "number_sections": true,
   "sideBar": true,
   "skip_h1_title": false,
   "title_cell": "Table of Contents",
   "title_sidebar": "Contents",
   "toc_cell": true,
   "toc_position": {},
   "toc_section_display": true,
   "toc_window_display": true
  }
 },
 "nbformat": 4,
 "nbformat_minor": 1
}
